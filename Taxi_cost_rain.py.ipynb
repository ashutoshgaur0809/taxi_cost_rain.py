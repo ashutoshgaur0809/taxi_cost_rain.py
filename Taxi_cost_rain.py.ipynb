{
 "cells": [
  {
   "cell_type": "code",
   "execution_count": 3,
   "id": "b1033c21",
   "metadata": {},
   "outputs": [
    {
     "name": "stdout",
     "output_type": "stream",
     "text": [
      "Enter no test csaes=2\n",
      "Enter no days=1\n",
      "Enter no of cost of taxi=53\n",
      "You either enter 0 or 1 \n",
      "there is rain?=0\n",
      "there is no rain\n",
      " total cost =  0\n",
      "Enter no days=2\n",
      "Enter no of cost of taxi=47\n",
      "You either enter 0 or 1 \n",
      "for day1=1\n",
      "for day2=0\n",
      "there is rain so total cost =  94\n"
     ]
    }
   ],
   "source": [
    "T = int(input(\"Enter no test csaes=\"))\n",
    "for i in range(T):\n",
    "    d =int(input(\"Enter no days=\"))\n",
    "    c= int(input(\"Enter no of cost of taxi=\"))\n",
    "    if(d<=1):\n",
    "        print(\"You either enter 0 or 1 \")\n",
    "        c1 = int(input(\"there is rain?=\"))\n",
    "        if(c1==0):\n",
    "            print(\"there is no rain\\n total cost = \",0*c)\n",
    "        if(c1==1):\n",
    "            print(\"there is rain\")\n",
    "            print(\"total cost=\",d*c)\n",
    "    elif(d==2):\n",
    "        print(\"You either enter 0 or 1 \")\n",
    "        c1 = int(input(\"for day1=\"))\n",
    "        c2 = int(input(\"for day2=\"))\n",
    "        if(c1==1):\n",
    "            print(\"there is rain so total cost = \",d*c)\n",
    "    \n",
    "            \n",
    "        \n",
    "   \n",
    "        \n",
    "        \n",
    "    "
   ]
  },
  {
   "cell_type": "code",
   "execution_count": null,
   "id": "9dbf2cb1",
   "metadata": {},
   "outputs": [],
   "source": []
  }
 ],
 "metadata": {
  "kernelspec": {
   "display_name": "Python 3 (ipykernel)",
   "language": "python",
   "name": "python3"
  },
  "language_info": {
   "codemirror_mode": {
    "name": "ipython",
    "version": 3
   },
   "file_extension": ".py",
   "mimetype": "text/x-python",
   "name": "python",
   "nbconvert_exporter": "python",
   "pygments_lexer": "ipython3",
   "version": "3.11.1"
  }
 },
 "nbformat": 4,
 "nbformat_minor": 5
}
